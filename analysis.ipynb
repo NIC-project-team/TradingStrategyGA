{
 "cells": [
  {
   "cell_type": "code",
   "execution_count": null,
   "id": "b85b9f6b0f2751ff",
   "metadata": {
    "collapsed": false
   },
   "outputs": [],
   "source": [
    "import matplotlib.pyplot as plt\n",
    "import strategy_text_generator as stg"
   ]
  },
  {
   "cell_type": "code",
   "outputs": [],
   "source": [
    "# plot losses of best candidates\n",
    "def plot_losses(losses, avg_losses):\n",
    "    x = [i+1 for i in range(len(losses))]\n",
    "    plt.plot(x, losses)\n",
    "    plt.plot(x, avg_losses)\n",
    "    plt.xlabel('Iteration')\n",
    "    plt.ylabel('Total profit % (Objective function)')\n",
    "    plt.title(f'Objective function of the best and average')\n",
    "    plt.legend(['Best', 'Average'])\n",
    "    plt.xticks(x)\n",
    "    plt.show()"
   ],
   "metadata": {
    "collapsed": false
   },
   "id": "7227c5bc1ce44515",
   "execution_count": null
  },
  {
   "cell_type": "code",
   "outputs": [],
   "source": [
    "losses, avg_losses, best_candidates, final_time = stg.parse_report('reports/SampleStrategy.json')\n",
    "plot_losses(losses, avg_losses)"
   ],
   "metadata": {
    "collapsed": false
   },
   "id": "59614a9ab0eddbb3",
   "execution_count": null
  },
  {
   "cell_type": "code",
   "outputs": [],
   "source": [
    "print(\"Execution time:\", round(final_time/60, 2), 'minutes,', round(final_time, 2), 'seconds')\n",
    "print(\"Best candidate parameters:\")\n",
    "final_candidate = best_candidates[-1]\n",
    "for parameter in final_candidate.keys():\n",
    "    if parameter != 'loss':\n",
    "        print(f\"{parameter}: {final_candidate[parameter]['default']}\")\n",
    "print(\"Total profit %:\", final_candidate['loss']*100)"
   ],
   "metadata": {
    "collapsed": false
   },
   "id": "ae4c5df903f771b4",
   "execution_count": null
  }
 ],
 "metadata": {
  "kernelspec": {
   "display_name": "Python 3",
   "language": "python",
   "name": "python3"
  },
  "language_info": {
   "codemirror_mode": {
    "name": "ipython",
    "version": 2
   },
   "file_extension": ".py",
   "mimetype": "text/x-python",
   "name": "python",
   "nbconvert_exporter": "python",
   "pygments_lexer": "ipython2",
   "version": "2.7.6"
  }
 },
 "nbformat": 4,
 "nbformat_minor": 5
}
